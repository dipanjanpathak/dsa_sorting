{
 "cells": [
  {
   "cell_type": "raw",
   "id": "e96d35ee-d304-40c2-bc10-7470585308d5",
   "metadata": {},
   "source": [
    "Problem 1.Given an array of n numbers, give an algorithm which gives the element appearing maximum number of times?"
   ]
  },
  {
   "cell_type": "code",
   "execution_count": 2,
   "id": "7e65e5b1-1cff-4db8-9a76-52b41434b89f",
   "metadata": {},
   "outputs": [
    {
     "name": "stdout",
     "output_type": "stream",
     "text": [
      "[1, 3, 4, 4, 4, 5, 5, 6]\n",
      "(4, 'frequency is ', 3)\n"
     ]
    }
   ],
   "source": [
    "def insertion_sort(arr):\n",
    "    for current_index in range(1, len(arr)):\n",
    "        current_value = arr[current_index]\n",
    "        previous_index = current_index - 1\n",
    "\n",
    "        while previous_index >= 0 and current_value < arr[previous_index]:\n",
    "            arr[previous_index + 1] = arr[previous_index]\n",
    "            previous_index -= 1\n",
    "        arr[previous_index + 1] = current_value\n",
    "\n",
    "    previous_count = 0\n",
    "    character = None\n",
    "    \n",
    "    current_count = 1\n",
    "    for i in range(1, len(arr)):\n",
    "\n",
    "        if arr[i] == arr[i - 1]:\n",
    "            current_count += 1\n",
    "        else:\n",
    "            current_count = 1\n",
    "\n",
    "        if current_count > previous_count:\n",
    "            character = arr[i]\n",
    "            previous_count = current_count\n",
    "\n",
    "    return character,\"frequency is \",previous_count\n",
    "\n",
    "\n",
    "array = [5,4,5,6,3,4,4,1]\n",
    "insertion_sort(array)\n",
    "print(array)\n",
    "print( insertion_sort(array))"
   ]
  },
  {
   "cell_type": "raw",
   "id": "9abbb862-3a28-4c31-9d0b-12df058cb069",
   "metadata": {},
   "source": [
    "Problem 2 : We are given a list of n-1 integers and these integers are in the range of 1 to n . There are no\n",
    "duplicates in the list. One of the integers is missing in the list. Give an algorithm to find that element Ex:\n",
    "[1,2,4,6,3,7,8] 5 is the missing num."
   ]
  },
  {
   "cell_type": "code",
   "execution_count": 2,
   "id": "636c6777-6a38-4cb9-b819-e0ff01d2bfc4",
   "metadata": {},
   "outputs": [
    {
     "name": "stdout",
     "output_type": "stream",
     "text": [
      "[1, 2, 3, 4, 6, 7, 8, 10, 12]\n",
      "The missing element is  5\n",
      "The missing element is  9\n",
      "The missing element is  11\n"
     ]
    }
   ],
   "source": [
    "array = [1,2,4,6,3,7,8,10,12]\n",
    "\n",
    "def insertion_sort(arr):\n",
    "    for current_index in range(1,len(arr)):\n",
    "        current_value = arr[current_index]\n",
    "        previous_index = current_index -1\n",
    "\n",
    "        while previous_index>= 0 and current_value< arr[previous_index]:\n",
    "         arr[previous_index+1] = arr[previous_index]\n",
    "         previous_index-=1\n",
    "        arr[previous_index+1] = current_value\n",
    "    \n",
    "insertion_sort(array)\n",
    "print(array)\n",
    "\n",
    "for i in range(1,len(array)):\n",
    "   if array[i-1] +1 != array[i]:\n",
    "      print(\"The missing element is \",array[i-1]+1)"
   ]
  },
  {
   "cell_type": "code",
   "execution_count": null,
   "id": "942ff8d9-cc67-471c-8a21-efd6e77c3e08",
   "metadata": {},
   "outputs": [],
   "source": [
    "Problem 3 : Given an array of n positive numbers. All numbers occurs even number of times except 1 which\n",
    "occurs odd number of times. Find that number in O(n) time and O(1) space. Ex: [1,2,3,2,3,1,3]. 3 is repeats odd\n",
    "times."
   ]
  },
  {
   "cell_type": "code",
   "execution_count": null,
   "id": "aea18f22-7900-40d1-bd1b-a067052f7346",
   "metadata": {},
   "outputs": [],
   "source": [
    "def find_odd_occurrence(arr):\n",
    "    result = 0\n",
    "    for num in arr:\n",
    "        result = result ^ num  \n",
    "    return result\n",
    "\n",
    "\n",
    "arr = [1, 2, 3, 2, 3, 1, 3]\n",
    "odd_occurrence_number = find_odd_occurrence(arr)\n",
    "print(\"The number occurring odd number of times is:\", odd_occurrence_number)\n"
   ]
  },
  {
   "cell_type": "code",
   "execution_count": null,
   "id": "a1db6eb7-177b-4c61-bbc3-3580b4bd1dad",
   "metadata": {},
   "outputs": [],
   "source": [
    "Problem 4 : Given an array of n elements. Find two elements in the array such that their sum is equal to given\n",
    "element K."
   ]
  },
  {
   "cell_type": "code",
   "execution_count": 1,
   "id": "6812ac3a-5bf0-4a6b-b08b-d861285d84ab",
   "metadata": {},
   "outputs": [
    {
     "name": "stdout",
     "output_type": "stream",
     "text": [
      "(3, 5)\n"
     ]
    }
   ],
   "source": [
    "def find_two_number(arr, target):\n",
    "    dictionary = {}  \n",
    "    \n",
    "    for num1 in arr:\n",
    "        num2 = target - num1\n",
    "        if num2 in dictionary:\n",
    "            return num2, num1\n",
    "        else:\n",
    "            dictionary[num1] = num1\n",
    "    \n",
    "\n",
    "arr = [1,2,3,4,5,6]\n",
    "print(find_two_number(arr, 8))"
   ]
  },
  {
   "cell_type": "code",
   "execution_count": null,
   "id": "d81db38c-5ae7-4db4-8d6a-a4f317ce6160",
   "metadata": {},
   "outputs": [],
   "source": [
    "Problem 5 : Given an array of both positive and negative numbers, find two numbers such that their sum is\n",
    "closest to 0. Ex: [ 1 ,60 ,-10, 70, -80,85]. Ans : -80,85."
   ]
  },
  {
   "cell_type": "code",
   "execution_count": 1,
   "id": "ced449eb-8cbe-444a-97f1-07055ea02be2",
   "metadata": {},
   "outputs": [
    {
     "name": "stdout",
     "output_type": "stream",
     "text": [
      "Closest pair to zero: (-80, 85)\n"
     ]
    }
   ],
   "source": [
    "def closest_to_zero(arr):\n",
    "    if len(arr) < 2:\n",
    "        return None\n",
    "    \n",
    "    for current_index in range(1,len(arr)):\n",
    "        current_value = arr[current_index]\n",
    "        previous_index = current_index-1\n",
    "\n",
    "        while previous_index>=0 and current_value< arr[previous_index]:\n",
    "            arr[previous_index+1] = arr[previous_index]\n",
    "            previous_index-=1\n",
    "        arr[previous_index+1] = current_value\n",
    "\n",
    "    left = 0\n",
    "    right = len(arr) - 1\n",
    "    \n",
    "    closest_sum = float('inf')\n",
    "    closest_pair = None\n",
    "\n",
    "    while left < right:\n",
    "        current_sum = arr[left] + arr[right]\n",
    "\n",
    "        if abs(current_sum) < abs(closest_sum):\n",
    "            closest_sum = current_sum\n",
    "            closest_pair = (arr[left], arr[right])\n",
    "\n",
    "    \n",
    "        if current_sum < 0:\n",
    "            left += 1\n",
    "        elif current_sum > 0:\n",
    "            right -= 1\n",
    "        else:\n",
    "        \n",
    "            break\n",
    "\n",
    "    return closest_pair\n",
    "\n",
    "arr = [1, 60, -10, 70, -80, 85]\n",
    "closest_pair = closest_to_zero(arr)\n",
    "print(\"Closest pair to zero:\", closest_pair)\n"
   ]
  },
  {
   "cell_type": "code",
   "execution_count": null,
   "id": "90db89ad-38bf-4652-ad08-b92cae69e1d4",
   "metadata": {},
   "outputs": [],
   "source": [
    "Problem 6 : Given an array of n elements . Find three elements such that their sum is equal to the given\n",
    "number."
   ]
  },
  {
   "cell_type": "code",
   "execution_count": null,
   "id": "29a94c5e-7934-450c-94e0-1d723e260fde",
   "metadata": {},
   "outputs": [],
   "source": [
    "def insertion_sort(arr):\n",
    "    for current_index in range(1, len(arr)):\n",
    "        current_value = arr[current_index]\n",
    "        previous_index = current_index - 1\n",
    "\n",
    "        while previous_index >= 0 and current_value < arr[previous_index]:\n",
    "            arr[previous_index + 1] = arr[previous_index]\n",
    "            previous_index -= 1\n",
    "        \n",
    "        arr[previous_index + 1] = current_value\n",
    "\n",
    "def three_sum(arr, target):\n",
    "    insertion_sort(arr) \n",
    "    result = []\n",
    "\n",
    "    for i in range(len(arr) - 2):\n",
    "        left = i + 1\n",
    "        right = len(arr) - 1\n",
    "\n",
    "        while left < right:\n",
    "            current_sum = arr[i] + arr[left] + arr[right]\n",
    "\n",
    "            if current_sum == target:\n",
    "                result.append([arr[i], arr[left], arr[right]])\n",
    "                left += 1\n",
    "                right -= 1\n",
    "            elif current_sum < target:\n",
    "                left += 1\n",
    "            else:\n",
    "                right -= 1\n",
    "\n",
    "    return result\n",
    "\n",
    "arr = [6, 5, 4, 3, 2]\n",
    "target_sum = 15\n",
    "triplets = three_sum(arr, target_sum)\n",
    "\n",
    "if triplets:\n",
    "    print(\"Triplets with sum\", target_sum, \"are:\")\n",
    "    for triplet in triplets:\n",
    "        print(triplet)\n",
    "else:\n",
    "    print(\"No triplets with sum\", target_sum, \"found.\")\n"
   ]
  },
  {
   "cell_type": "code",
   "execution_count": null,
   "id": "c41bb13c-6d74-4a8b-a369-1fda8198735c",
   "metadata": {},
   "outputs": [],
   "source": [
    "Problem 7 : Given an array of n elements . Find three elements i, j, k in the array such that\n",
    "i * i + j * j = k*k."
   ]
  },
  {
   "cell_type": "code",
   "execution_count": 5,
   "id": "dd3f246b-46fc-42b0-a000-a40a1903df7f",
   "metadata": {},
   "outputs": [
    {
     "name": "stdout",
     "output_type": "stream",
     "text": [
      "Pythagorean triplet exists: (3, 4, 5)\n"
     ]
    }
   ],
   "source": [
    "def findPythagoreanTriplet(nums):\n",
    "\n",
    "    for current_index in range(1, len(nums)):\n",
    "        current_value = nums[current_index]\n",
    "        previous_index = current_index - 1\n",
    "\n",
    "        while previous_index >= 0 and current_value < nums[previous_index]:\n",
    "            nums[previous_index + 1] = nums[previous_index]\n",
    "            previous_index -= 1\n",
    "        \n",
    "        nums[previous_index + 1] = current_value\n",
    "    n = len(nums)\n",
    "\n",
    "    \n",
    "    for k in range(2, n):\n",
    "        left = 0\n",
    "        right = k - 1\n",
    "\n",
    "        \n",
    "        while left < right:\n",
    "        \n",
    "            sum_of_squares = nums[left] * nums[left] + nums[right] * nums[right]\n",
    "            square_of_k = nums[k] * nums[k]\n",
    "\n",
    "\n",
    "            if sum_of_squares == square_of_k:\n",
    "                return nums[left], nums[right], nums[k]\n",
    "            elif sum_of_squares < square_of_k:\n",
    "                left += 1\n",
    "            else:\n",
    "                right -= 1\n",
    "\n",
    "\n",
    "    return None\n",
    "\n",
    "arr = [3, 1, 4, 6, 5]\n",
    "triplet = findPythagoreanTriplet(arr)\n",
    "if triplet:\n",
    "    print(\"Pythagorean triplet exists:\", triplet)\n",
    "else:\n",
    "    print(\"Pythagorean triplet doesn't exist\")\n"
   ]
  },
  {
   "cell_type": "code",
   "execution_count": null,
   "id": "1c3c6b67-3846-48fd-b7d5-16a1c1db4d2b",
   "metadata": {},
   "outputs": [],
   "source": [
    "Problem 8 : An element is a majority if it appears more than n/2 times. Give an algorithm takes an array of n\n",
    "element as argument and identifies a majority (if it exists)."
   ]
  },
  {
   "cell_type": "code",
   "execution_count": null,
   "id": "a14c2e94-bd0f-46f6-89c2-ab3c47ec72ab",
   "metadata": {},
   "outputs": [],
   "source": [
    "def findMajorityElement(nums):\n",
    "    candidate = None\n",
    "    count = 0\n",
    "\n",
    "    \n",
    "    for num in nums:\n",
    "        if count == 0:\n",
    "            candidate = num\n",
    "            count = 1\n",
    "        elif num == candidate:\n",
    "            count += 1\n",
    "        else:\n",
    "            count -= 1\n",
    "            \n",
    "    count = 0\n",
    "    for num in nums:\n",
    "        if num == candidate:\n",
    "            count += 1\n",
    "\n",
    "    if count > len(nums) // 2:\n",
    "        return candidate\n",
    "    else:\n",
    "        return None\n",
    "\n",
    "arr = [2, 2, 3, 4, 2, 2, 5, 2, 2]\n",
    "majority_element = findMajorityElement(arr)\n",
    "if majority_element:\n",
    "    print(\"Majority element is:\", majority_element)\n",
    "else:\n",
    "    print(\"No majority element found\")\n"
   ]
  },
  {
   "cell_type": "code",
   "execution_count": null,
   "id": "24b7b5a5-a3b4-43cf-98dd-acbcf2f306d9",
   "metadata": {},
   "outputs": [],
   "source": [
    "Problem 9 : Given n × n matrix, and in each row all 1’s are followed by 0’s. Find the row with the maximum\n",
    "number of 0’s."
   ]
  },
  {
   "cell_type": "code",
   "execution_count": 6,
   "id": "2cb2ff4d-3006-4382-8c97-cd75275d32fa",
   "metadata": {},
   "outputs": [
    {
     "name": "stdout",
     "output_type": "stream",
     "text": [
      "Row with maximum number of zeros: 3\n"
     ]
    }
   ],
   "source": [
    "def maxZeroRow(matrix):\n",
    "    max_zeros = 0\n",
    "    max_zeros_row = -1\n",
    "\n",
    "    for i in range(len(matrix)):\n",
    "        count_zeros = matrix[i].index(0)\n",
    "        if count_zeros > max_zeros:\n",
    "            max_zeros = count_zeros\n",
    "            max_zeros_row = i\n",
    "\n",
    "    return max_zeros_row\n",
    "\n",
    "\n",
    "matrix = [\n",
    "    [1, 1, 1, 0, 0],\n",
    "    [1, 1, 0, 0, 0],\n",
    "    [1, 0, 0, 0, 0],\n",
    "    [1, 1, 1, 1, 0],\n",
    "    [1, 1, 1, 0, 0]\n",
    "]\n",
    "\n",
    "max_zeros_row = maxZeroRow(matrix)\n",
    "if max_zeros_row != -1:\n",
    "    print(\"Row with maximum number of zeros:\", max_zeros_row)\n",
    "else:\n",
    "    print(\"No zeros found in any row\")\n"
   ]
  },
  {
   "cell_type": "code",
   "execution_count": null,
   "id": "d62bb111-7487-41d0-b058-55ce74bf4792",
   "metadata": {},
   "outputs": [],
   "source": [
    "Problem 10 : Sort an array of 0’s, 1’s and 2’s [or R’s, G’s and B’s]: Given an array A[] consisting of 0’s, 1’s and\n",
    "2’s, give an algorithm for sorting A[].The algorithm should put all 0’s first, then all 1’s and finally all 2’s at the\n",
    "end. Example Input = {0,1,1,0,1,2,1,2,0,0,0,1}, Output = {0,0,0,0,0,1,1,1,1,1,2,2}"
   ]
  }
 ],
 "metadata": {
  "kernelspec": {
   "display_name": "Python 3 (ipykernel)",
   "language": "python",
   "name": "python3"
  },
  "language_info": {
   "codemirror_mode": {
    "name": "ipython",
    "version": 3
   },
   "file_extension": ".py",
   "mimetype": "text/x-python",
   "name": "python",
   "nbconvert_exporter": "python",
   "pygments_lexer": "ipython3",
   "version": "3.10.8"
  }
 },
 "nbformat": 4,
 "nbformat_minor": 5
}
